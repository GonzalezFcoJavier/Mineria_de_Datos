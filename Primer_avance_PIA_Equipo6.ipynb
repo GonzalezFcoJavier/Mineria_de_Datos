{
  "nbformat": 4,
  "nbformat_minor": 0,
  "metadata": {
    "colab": {
      "name": "Primer_avance_PIA_Equipo6.ipynb",
      "provenance": [],
      "include_colab_link": true
    },
    "kernelspec": {
      "name": "python3",
      "display_name": "Python 3"
    },
    "language_info": {
      "name": "python"
    }
  },
  "cells": [
    {
      "cell_type": "markdown",
      "metadata": {
        "id": "view-in-github",
        "colab_type": "text"
      },
      "source": [
        "<a href=\"https://colab.research.google.com/github/GonzalezFcoJavier/Mineria_de_Datos/blob/main/Primer_avance_PIA_Equipo6.ipynb\" target=\"_parent\"><img src=\"https://colab.research.google.com/assets/colab-badge.svg\" alt=\"Open In Colab\"/></a>"
      ]
    },
    {
      "cell_type": "code",
      "metadata": {
        "id": "yZwFuT_BpUpZ"
      },
      "source": [
        "'''\n",
        "Equipo; 6\n",
        "Grupo; 2\n",
        "Clase; Miercoles de 7:00pm-10:00pm\n",
        "Nombres: \n",
        "1687417 Francisco Javier  Gonzales Olivares \n",
        "1869524 Luis said Martinez Hernandez \n",
        "        Edmundo Isai Ibarra Cavazos\n",
        "1838148 Raul Flores Robles\n",
        "\n",
        "Titulo De La Base De Datos\n",
        "Nombre con el que se encuentra la pagina econtrada: Cryptocurrency Price Forecasting \n",
        "Url: https://www.kaggle.com/taniaj/cryptocurrency-price-forecasting\n",
        "\n",
        "Introducción \n",
        "Descripción: Diariamente se registra el precio de la criptomoneda en diferentes bases de datos con el fin de intentar producir alguna estimación\n",
        "sin correr el riesgo de que algun dia la criptomomeda baje exponencialmente ya que se conoce que este tipo de inversiónes no es la mas segura del mundo\n",
        "\n",
        "Descripción De Los Datos\n",
        "Que tipo de datos son: Los datos que se obtienen son precios que se dan al incio y cierre del dia donde se maneja los precios mas bajos que se\n",
        "registro, el precio mas alto y los precios de entrada y termino del dia\n",
        "Descripción de las columnas: En las columnas obtenidas por la base de datos antes de ser cambiadas se conforman por\n",
        "Date: se informa el dia en que la moneda \n",
        "\n",
        "Justificación Del Uso De Datos\n",
        "Caracteristicas: Nos llamo la atención la variación de precios que se tiene puesto que el precio de la criptomoneda ya que no se tiene un margen \n",
        "o un regimen el cual se sigue para basarse en el precio siguiente del precio de la criptomoneda y la forma en que se tiene un precio diferente \n",
        "tanto de cierre como de inicio de dia y vimos como fue siendo tan conocida a lo largo de los años \n",
        "Beneficios:Nosotros encontramos el beneficio de trabajar con estos datos seria el que podemos intentar predecir el precio del bitcoin a base de \n",
        "ver como se comporta el precio de inicio del dia, de cierre, del mes e inclusive como se a comportado en los años para ver si se tiene\n",
        "el futura aegurado o riesgoso al final de nuetro analisis en sus bases de datos y poder intentar predecir si la criptomoneda\n",
        "tendra un futuro en las inversiones \n",
        "\n",
        "Objetivo Final\n",
        "Objetivos: Saber si la criptomoneda tiene seguro su estabilidad en las inversiones ya que es una modalidad que \n",
        "no tiene mucho que empezo en el mercado y se buscar ver que tanto impacto tendra en la sociedad \n",
        "\n",
        "Preguntas de Interes\n",
        "¿La criptomoneda se considera una inversión a largo plazo?\n",
        "¿se consideraria invertir dinero a un tiempo de inversión mayor?\n",
        "\n",
        "\n",
        "\n",
        "'''\n"
      ],
      "execution_count": null,
      "outputs": []
    },
    {
      "cell_type": "code",
      "metadata": {
        "id": "5lNTSWh2vxgt"
      },
      "source": [
        "import pandas as pd\n",
        "import numpy as np\n",
        "import json \n",
        "import csv\n"
      ],
      "execution_count": 6,
      "outputs": []
    },
    {
      "cell_type": "code",
      "metadata": {
        "id": "0IW84YU5wsGm",
        "colab": {
          "resources": {
            "http://localhost:8080/nbextensions/google.colab/files.js": {
              "data": "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",
              "ok": true,
              "headers": [
                [
                  "content-type",
                  "application/javascript"
                ]
              ],
              "status": 200,
              "status_text": ""
            }
          },
          "base_uri": "https://localhost:8080/",
          "height": 364
        },
        "outputId": "70cbc8a6-31b1-4069-a5cf-bf11cba281ae"
      },
      "source": [
        "from google.colab import files\n",
        "files.upload()\n",
        "\n"
      ],
      "execution_count": 7,
      "outputs": [
        {
          "output_type": "display_data",
          "data": {
            "text/html": [
              "\n",
              "     <input type=\"file\" id=\"files-2229b11a-a3fd-4483-9bf5-c098dd4f97fe\" name=\"files[]\" multiple disabled\n",
              "        style=\"border:none\" />\n",
              "     <output id=\"result-2229b11a-a3fd-4483-9bf5-c098dd4f97fe\">\n",
              "      Upload widget is only available when the cell has been executed in the\n",
              "      current browser session. Please rerun this cell to enable.\n",
              "      </output>\n",
              "      <script src=\"/nbextensions/google.colab/files.js\"></script> "
            ],
            "text/plain": [
              "<IPython.core.display.HTML object>"
            ]
          },
          "metadata": {}
        },
        {
          "output_type": "error",
          "ename": "KeyboardInterrupt",
          "evalue": "ignored",
          "traceback": [
            "\u001b[0;31m---------------------------------------------------------------------------\u001b[0m",
            "\u001b[0;31mKeyboardInterrupt\u001b[0m                         Traceback (most recent call last)",
            "\u001b[0;32m<ipython-input-7-94875fbb78e1>\u001b[0m in \u001b[0;36m<module>\u001b[0;34m()\u001b[0m\n\u001b[1;32m      1\u001b[0m \u001b[0;32mfrom\u001b[0m \u001b[0mgoogle\u001b[0m\u001b[0;34m.\u001b[0m\u001b[0mcolab\u001b[0m \u001b[0;32mimport\u001b[0m \u001b[0mfiles\u001b[0m\u001b[0;34m\u001b[0m\u001b[0;34m\u001b[0m\u001b[0m\n\u001b[0;32m----> 2\u001b[0;31m \u001b[0mfiles\u001b[0m\u001b[0;34m.\u001b[0m\u001b[0mupload\u001b[0m\u001b[0;34m(\u001b[0m\u001b[0;34m)\u001b[0m\u001b[0;34m\u001b[0m\u001b[0;34m\u001b[0m\u001b[0m\n\u001b[0m\u001b[1;32m      3\u001b[0m \u001b[0;34m\u001b[0m\u001b[0m\n",
            "\u001b[0;32m/usr/local/lib/python3.7/dist-packages/google/colab/files.py\u001b[0m in \u001b[0;36mupload\u001b[0;34m()\u001b[0m\n\u001b[1;32m     62\u001b[0m   result = _output.eval_js(\n\u001b[1;32m     63\u001b[0m       'google.colab._files._uploadFiles(\"{input_id}\", \"{output_id}\")'.format(\n\u001b[0;32m---> 64\u001b[0;31m           input_id=input_id, output_id=output_id))\n\u001b[0m\u001b[1;32m     65\u001b[0m   \u001b[0mfiles\u001b[0m \u001b[0;34m=\u001b[0m \u001b[0m_collections\u001b[0m\u001b[0;34m.\u001b[0m\u001b[0mdefaultdict\u001b[0m\u001b[0;34m(\u001b[0m\u001b[0m_six\u001b[0m\u001b[0;34m.\u001b[0m\u001b[0mbinary_type\u001b[0m\u001b[0;34m)\u001b[0m\u001b[0;34m\u001b[0m\u001b[0;34m\u001b[0m\u001b[0m\n\u001b[1;32m     66\u001b[0m   \u001b[0;31m# Mapping from original filename to filename as saved locally.\u001b[0m\u001b[0;34m\u001b[0m\u001b[0;34m\u001b[0m\u001b[0;34m\u001b[0m\u001b[0m\n",
            "\u001b[0;32m/usr/local/lib/python3.7/dist-packages/google/colab/output/_js.py\u001b[0m in \u001b[0;36meval_js\u001b[0;34m(script, ignore_result, timeout_sec)\u001b[0m\n\u001b[1;32m     38\u001b[0m   \u001b[0;32mif\u001b[0m \u001b[0mignore_result\u001b[0m\u001b[0;34m:\u001b[0m\u001b[0;34m\u001b[0m\u001b[0;34m\u001b[0m\u001b[0m\n\u001b[1;32m     39\u001b[0m     \u001b[0;32mreturn\u001b[0m\u001b[0;34m\u001b[0m\u001b[0;34m\u001b[0m\u001b[0m\n\u001b[0;32m---> 40\u001b[0;31m   \u001b[0;32mreturn\u001b[0m \u001b[0m_message\u001b[0m\u001b[0;34m.\u001b[0m\u001b[0mread_reply_from_input\u001b[0m\u001b[0;34m(\u001b[0m\u001b[0mrequest_id\u001b[0m\u001b[0;34m,\u001b[0m \u001b[0mtimeout_sec\u001b[0m\u001b[0;34m)\u001b[0m\u001b[0;34m\u001b[0m\u001b[0;34m\u001b[0m\u001b[0m\n\u001b[0m\u001b[1;32m     41\u001b[0m \u001b[0;34m\u001b[0m\u001b[0m\n\u001b[1;32m     42\u001b[0m \u001b[0;34m\u001b[0m\u001b[0m\n",
            "\u001b[0;32m/usr/local/lib/python3.7/dist-packages/google/colab/_message.py\u001b[0m in \u001b[0;36mread_reply_from_input\u001b[0;34m(message_id, timeout_sec)\u001b[0m\n\u001b[1;32m     99\u001b[0m     \u001b[0mreply\u001b[0m \u001b[0;34m=\u001b[0m \u001b[0m_read_next_input_message\u001b[0m\u001b[0;34m(\u001b[0m\u001b[0;34m)\u001b[0m\u001b[0;34m\u001b[0m\u001b[0;34m\u001b[0m\u001b[0m\n\u001b[1;32m    100\u001b[0m     \u001b[0;32mif\u001b[0m \u001b[0mreply\u001b[0m \u001b[0;34m==\u001b[0m \u001b[0m_NOT_READY\u001b[0m \u001b[0;32mor\u001b[0m \u001b[0;32mnot\u001b[0m \u001b[0misinstance\u001b[0m\u001b[0;34m(\u001b[0m\u001b[0mreply\u001b[0m\u001b[0;34m,\u001b[0m \u001b[0mdict\u001b[0m\u001b[0;34m)\u001b[0m\u001b[0;34m:\u001b[0m\u001b[0;34m\u001b[0m\u001b[0;34m\u001b[0m\u001b[0m\n\u001b[0;32m--> 101\u001b[0;31m       \u001b[0mtime\u001b[0m\u001b[0;34m.\u001b[0m\u001b[0msleep\u001b[0m\u001b[0;34m(\u001b[0m\u001b[0;36m0.025\u001b[0m\u001b[0;34m)\u001b[0m\u001b[0;34m\u001b[0m\u001b[0;34m\u001b[0m\u001b[0m\n\u001b[0m\u001b[1;32m    102\u001b[0m       \u001b[0;32mcontinue\u001b[0m\u001b[0;34m\u001b[0m\u001b[0;34m\u001b[0m\u001b[0m\n\u001b[1;32m    103\u001b[0m     if (reply.get('type') == 'colab_reply' and\n",
            "\u001b[0;31mKeyboardInterrupt\u001b[0m: "
          ]
        }
      ]
    },
    {
      "cell_type": "code",
      "metadata": {
        "id": "CbwmswjgvdTp",
        "colab": {
          "base_uri": "https://localhost:8080/"
        },
        "outputId": "2d9a4dd3-00db-46a8-b4d3-ba982e56bc8c"
      },
      "source": [
        "df = pd.read_csv(\"all_currencies.csv\",encoding='utf8')\n",
        "print(df) \n",
        "print(df.shape) \n",
        "print(df.head) \n",
        "print(df.tail)\n",
        "print(df.columns)\n",
        "\n"
      ],
      "execution_count": 29,
      "outputs": [
        {
          "output_type": "stream",
          "name": "stdout",
          "text": [
            "        Unnamed: 0        Date Symbol  ...     Close  Volume  Market Cap\n",
            "0                0  2015-11-12    $$$  ...  0.000017   142.0         NaN\n",
            "1                1  2015-11-13    $$$  ...  0.000024    85.0         NaN\n",
            "2                2  2015-11-14    $$$  ...  0.000030   131.0         NaN\n",
            "3                3  2015-11-15    $$$  ...  0.000035   132.0         NaN\n",
            "4                4  2015-11-16    $$$  ...  0.000036   280.0         NaN\n",
            "...            ...         ...    ...  ...       ...     ...         ...\n",
            "645779         189  2018-05-29    ZZC  ...  0.083027   590.0    189967.0\n",
            "645780         190  2018-05-30    ZZC  ...  0.082957   263.0    161719.0\n",
            "645781         191  2018-05-31    ZZC  ...  0.121377    52.0    161444.0\n",
            "645782         192  2018-06-01    ZZC  ...  0.100614    47.0    138924.0\n",
            "645783         193  2018-06-02    ZZC  ...  0.089404    63.0    195759.0\n",
            "\n",
            "[645784 rows x 9 columns]\n",
            "(645784, 9)\n",
            "<bound method NDFrame.head of         Unnamed: 0        Date Symbol  ...     Close  Volume  Market Cap\n",
            "0                0  2015-11-12    $$$  ...  0.000017   142.0         NaN\n",
            "1                1  2015-11-13    $$$  ...  0.000024    85.0         NaN\n",
            "2                2  2015-11-14    $$$  ...  0.000030   131.0         NaN\n",
            "3                3  2015-11-15    $$$  ...  0.000035   132.0         NaN\n",
            "4                4  2015-11-16    $$$  ...  0.000036   280.0         NaN\n",
            "...            ...         ...    ...  ...       ...     ...         ...\n",
            "645779         189  2018-05-29    ZZC  ...  0.083027   590.0    189967.0\n",
            "645780         190  2018-05-30    ZZC  ...  0.082957   263.0    161719.0\n",
            "645781         191  2018-05-31    ZZC  ...  0.121377    52.0    161444.0\n",
            "645782         192  2018-06-01    ZZC  ...  0.100614    47.0    138924.0\n",
            "645783         193  2018-06-02    ZZC  ...  0.089404    63.0    195759.0\n",
            "\n",
            "[645784 rows x 9 columns]>\n",
            "<bound method NDFrame.tail of         Unnamed: 0        Date Symbol  ...     Close  Volume  Market Cap\n",
            "0                0  2015-11-12    $$$  ...  0.000017   142.0         NaN\n",
            "1                1  2015-11-13    $$$  ...  0.000024    85.0         NaN\n",
            "2                2  2015-11-14    $$$  ...  0.000030   131.0         NaN\n",
            "3                3  2015-11-15    $$$  ...  0.000035   132.0         NaN\n",
            "4                4  2015-11-16    $$$  ...  0.000036   280.0         NaN\n",
            "...            ...         ...    ...  ...       ...     ...         ...\n",
            "645779         189  2018-05-29    ZZC  ...  0.083027   590.0    189967.0\n",
            "645780         190  2018-05-30    ZZC  ...  0.082957   263.0    161719.0\n",
            "645781         191  2018-05-31    ZZC  ...  0.121377    52.0    161444.0\n",
            "645782         192  2018-06-01    ZZC  ...  0.100614    47.0    138924.0\n",
            "645783         193  2018-06-02    ZZC  ...  0.089404    63.0    195759.0\n",
            "\n",
            "[645784 rows x 9 columns]>\n",
            "Index(['Unnamed: 0', 'Date', 'Symbol', 'Open', 'High', 'Low', 'Close',\n",
            "       'Volume', 'Market Cap'],\n",
            "      dtype='object')\n"
          ]
        }
      ]
    },
    {
      "cell_type": "code",
      "metadata": {
        "colab": {
          "base_uri": "https://localhost:8080/"
        },
        "id": "4tiyZXG_1h9N",
        "outputId": "c3f63001-1b0b-4b05-955d-79c90fe6ee12"
      },
      "source": [
        "df.columns\n",
        "df=df.rename(columns = {'Close':'Cierre'})\n",
        "df=df.rename(columns = {'Volume':'Volumen'})\n",
        "df=df.rename(columns = {'Date':'Fecha'})\n",
        "df=df.rename(columns = {'Open':'Apertura'})\n",
        "df=df.rename(columns = {'High':'Alto'})\n",
        "df=df.rename(columns = {'Low':'Bajo'})\n",
        "df=df.rename(columns = {'Close':'Cierre'})\n",
        "df=df.rename(columns = {'Volume':'Volumen'})\n",
        "df=df.rename(columns = {'Market Cap':'Capitalizacion de Mercado'})\n",
        "print(df)\n",
        "\n"
      ],
      "execution_count": 52,
      "outputs": [
        {
          "output_type": "stream",
          "name": "stdout",
          "text": [
            "        Unnamed: 0       Fecha  ... Volumen  Capitalizacion de Mercado\n",
            "0                0  2015-11-12  ...   142.0                        NaN\n",
            "1                1  2015-11-13  ...    85.0                        NaN\n",
            "2                2  2015-11-14  ...   131.0                        NaN\n",
            "3                3  2015-11-15  ...   132.0                        NaN\n",
            "4                4  2015-11-16  ...   280.0                        NaN\n",
            "...            ...         ...  ...     ...                        ...\n",
            "645779         189  2018-05-29  ...   590.0                   189967.0\n",
            "645780         190  2018-05-30  ...   263.0                   161719.0\n",
            "645781         191  2018-05-31  ...    52.0                   161444.0\n",
            "645782         192  2018-06-01  ...    47.0                   138924.0\n",
            "645783         193  2018-06-02  ...    63.0                   195759.0\n",
            "\n",
            "[645784 rows x 9 columns]\n"
          ]
        }
      ]
    },
    {
      "cell_type": "code",
      "metadata": {
        "colab": {
          "base_uri": "https://localhost:8080/"
        },
        "id": "MphrQtmf6McC",
        "outputId": "23fd131f-a822-4f03-d3ce-bac6f1e095f3"
      },
      "source": [
        "df.dtypes\n",
        "\n",
        "print( df[df['Symbol']=='ACES'])"
      ],
      "execution_count": 56,
      "outputs": [
        {
          "output_type": "stream",
          "name": "stdout",
          "text": [
            "       Unnamed: 0       Fecha  ... Volumen  Capitalizacion de Mercado\n",
            "12146           0  2016-08-19  ...  2643.0                        NaN\n",
            "12147           1  2016-08-20  ...  2349.0                        NaN\n",
            "12148           2  2016-08-21  ...  3716.0                        NaN\n",
            "12149           3  2016-08-22  ...  6102.0                        NaN\n",
            "12150           4  2016-08-23  ...  2848.0                        NaN\n",
            "...           ...         ...  ...     ...                        ...\n",
            "12786         640  2018-05-29  ...     2.0                        NaN\n",
            "12787         641  2018-05-30  ...     2.0                        NaN\n",
            "12788         642  2018-05-31  ...    26.0                        NaN\n",
            "12789         643  2018-06-01  ...     3.0                        NaN\n",
            "12790         644  2018-06-02  ...    72.0                        NaN\n",
            "\n",
            "[645 rows x 9 columns]\n"
          ]
        }
      ]
    },
    {
      "cell_type": "code",
      "metadata": {
        "colab": {
          "base_uri": "https://localhost:8080/"
        },
        "id": "pH2ahITH8a8N",
        "outputId": "f553abfc-d8e6-4823-b8b1-3810a772f93d"
      },
      "source": [
        "print(df.Volumen.unique(),\"\\n\")   \n",
        "vol_1000=df[df['Volumen']>=1000]\n",
        "vol_1000.to_csv('aces.csv', index=False)\n",
        "\n",
        "print(vol_1000)\n"
      ],
      "execution_count": 76,
      "outputs": [
        {
          "output_type": "stream",
          "name": "stdout",
          "text": [
            "[  142.    85.   131. ... 58724. 32040. 17892.] \n",
            "\n",
            "        Unnamed: 0       Fecha  ...  Volumen  Capitalizacion de Mercado\n",
            "535            535  2017-05-11  ...   1941.0                    15270.0\n",
            "562            562  2017-06-07  ...   1362.0                    20956.0\n",
            "563            563  2017-06-08  ...   2993.0                    22207.0\n",
            "564            564  2017-06-09  ...   2055.0                    32097.0\n",
            "565            565  2017-06-10  ...  14758.0                    34740.0\n",
            "...            ...         ...  ...      ...                        ...\n",
            "645756         166  2018-05-06  ...   1618.0                   105114.0\n",
            "645760         170  2018-05-10  ...   1050.0                   275150.0\n",
            "645762         172  2018-05-12  ...   1594.0                   247027.0\n",
            "645771         181  2018-05-21  ...   5705.0                   247152.0\n",
            "645776         186  2018-05-26  ...   1135.0                   197693.0\n",
            "\n",
            "[263760 rows x 9 columns]\n"
          ]
        }
      ]
    }
  ]
}