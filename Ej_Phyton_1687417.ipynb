{
  "nbformat": 4,
  "nbformat_minor": 0,
  "metadata": {
    "colab": {
      "name": "Untitled3.ipynb",
      "provenance": [],
      "authorship_tag": "ABX9TyMpSXAuuVOUYzWRiEhfzs3f",
      "include_colab_link": true
    },
    "kernelspec": {
      "name": "python3",
      "display_name": "Python 3"
    },
    "language_info": {
      "name": "python"
    }
  },
  "cells": [
    {
      "cell_type": "markdown",
      "metadata": {
        "id": "view-in-github",
        "colab_type": "text"
      },
      "source": [
        "<a href=\"https://colab.research.google.com/github/GonzalezFcoJavier/Mineria_de_Datos/blob/main/Ej_Phyton_1687417.ipynb\" target=\"_parent\"><img src=\"https://colab.research.google.com/assets/colab-badge.svg\" alt=\"Open In Colab\"/></a>"
      ]
    },
    {
      "cell_type": "code",
      "metadata": {
        "id": "a8I9ajvCQHiz",
        "colab": {
          "base_uri": "https://localhost:8080/"
        },
        "outputId": "e264f122-ba95-45a9-dfc3-666bf2e15867"
      },
      "source": [
        "print(\"Hola mundo!\")"
      ],
      "execution_count": 2,
      "outputs": [
        {
          "output_type": "stream",
          "text": [
            "Hola mundo!\n"
          ],
          "name": "stdout"
        }
      ]
    },
    {
      "cell_type": "markdown",
      "metadata": {
        "id": "kan4wDcmD7Nt"
      },
      "source": [
        "Ejercicio 1: Realiza una variable con tu matricula y realiza una secuencia de imprimir con tu nombre y tu matricula concatenados."
      ]
    },
    {
      "cell_type": "code",
      "metadata": {
        "colab": {
          "base_uri": "https://localhost:8080/"
        },
        "id": "94PWJAlhECY1",
        "outputId": "8fe49882-057c-4eea-f9bf-f2f14e2b93f7"
      },
      "source": [
        "nom = str (\"Francisco Javier Gonzalez Olivares\")\n",
        "mat = int (1687417)\n",
        "print(\"Nombre: \", nom,\"|\", \"Matricula: \", mat)"
      ],
      "execution_count": 22,
      "outputs": [
        {
          "output_type": "stream",
          "text": [
            "Nombre:  Francisco Javier Gonzalez Olivares | Matricula:  1687417\n"
          ],
          "name": "stdout"
        }
      ]
    },
    {
      "cell_type": "markdown",
      "metadata": {
        "id": "YYIKAy6qHS-H"
      },
      "source": [
        "Ejercicio 2: Pidiendo el input del usuario pide dos números y crea una pequeña calculadora con los operadores básicos de suma, resta, multiplicación, división, y exponente."
      ]
    },
    {
      "cell_type": "code",
      "metadata": {
        "colab": {
          "base_uri": "https://localhost:8080/"
        },
        "id": "TWwR2TWdHWa6",
        "outputId": "88258108-5caa-4fb6-c4d1-e20b39e8ff92"
      },
      "source": [
        "n1 = float ( input (\"Introduce el primer numero: \"))\n",
        "n2 = float ( input (\"Introduce el segundo numero: \"))\n",
        "\n",
        "print(\"\\nLa suma es: \", n1+n2)\n",
        "print(\"La resta es: \", n1-n2)\n",
        "print(\"La multiplicacion es: \", n1*n2)\n",
        "print(\"La divicion es es: \", n1/n2)"
      ],
      "execution_count": 92,
      "outputs": [
        {
          "output_type": "stream",
          "text": [
            "Introduce el primer numero: 124\n",
            "Introduce el segundo numero: 1234\n",
            "\n",
            "La suma es:  1358.0\n",
            "La resta es:  -1110.0\n",
            "La multiplicacion es:  153016.0\n",
            "La divicion es es:  0.10048622366288493\n"
          ],
          "name": "stdout"
        }
      ]
    },
    {
      "cell_type": "markdown",
      "metadata": {
        "id": "dgHnksQgItjt"
      },
      "source": [
        "Ejercicio 3: Con loop while o for, realiza una lista de 10 numeros multiplos de 3, y después realiza una función de loop que sume todos los números dentro del arreglo.\n"
      ]
    },
    {
      "cell_type": "code",
      "metadata": {
        "colab": {
          "base_uri": "https://localhost:8080/"
        },
        "id": "rthynYNzND_-",
        "outputId": "b562ede9-5daf-4bc6-e2c2-a17a8432c3d0"
      },
      "source": [
        "x = int (0)\n",
        "print(\"Lista de 10 numeros multiplos de 3: \\n\")\n",
        "i=3\n",
        "while i <= 30:\n",
        "  print (i)\n",
        "  i=i+3\n",
        "  x=i+x\n",
        "print(\"\\nLa suma de los 10 numeros anteriores es: \",x)"
      ],
      "execution_count": 93,
      "outputs": [
        {
          "output_type": "stream",
          "text": [
            "Lista de 10 numeros multiplos de 3: \n",
            "\n",
            "3\n",
            "6\n",
            "9\n",
            "12\n",
            "15\n",
            "18\n",
            "21\n",
            "24\n",
            "27\n",
            "30\n",
            "\n",
            "La suma de los 10 numeros anteriores es:  195\n"
          ],
          "name": "stdout"
        }
      ]
    },
    {
      "cell_type": "markdown",
      "metadata": {
        "id": "OB0enuGNTIgU"
      },
      "source": [
        "Ejercicio 4: \n",
        " Con una función de if else, revisar si un número es par o es impar.\n",
        "| Con una función de if else, revisar si un número es primo o no."
      ]
    },
    {
      "cell_type": "code",
      "metadata": {
        "colab": {
          "base_uri": "https://localhost:8080/"
        },
        "id": "xIVF7k_1Th0B",
        "outputId": "d3e67540-4e0f-4c83-d8a2-ebf601ce745a"
      },
      "source": [
        "n= int ( input (\"Introduce un numero: \"))\n",
        "n1=n%2\n",
        "if n1 == 0 :\n",
        "  print(\"El numero es par\")\n",
        "else :\n",
        "  print(\"El numero es impar\")\n"
      ],
      "execution_count": 70,
      "outputs": [
        {
          "output_type": "stream",
          "text": [
            "Introduce un numero: 1324235\n",
            "El numero es impar\n"
          ],
          "name": "stdout"
        }
      ]
    },
    {
      "cell_type": "markdown",
      "metadata": {
        "id": "TK17e-MZV-yH"
      },
      "source": [
        "Ejercicio 5: Utilizando diferentes clases en python, crea una calculadora con los operadores básicos de suma, resta, multiplicación, división, y exponente."
      ]
    },
    {
      "cell_type": "code",
      "metadata": {
        "colab": {
          "base_uri": "https://localhost:8080/"
        },
        "id": "GpWIdwpEWFnL",
        "outputId": "f1840093-638f-48c9-b71f-bb8619131fcb"
      },
      "source": [
        "n1 = float(input(\"Introduce el primer numero X: \"))\n",
        "n2 = float(input(\"Introduce el segundo numero Y: \"))\n",
        "print(\"\\n 1.- SUMA X+Y\")\n",
        "print(\"2.- RESTA X-Y\")\n",
        "print(\"3.- MULTIPLICACION X*Y\")\n",
        "print(\"4.- DIVICION X/Y\")\n",
        "print(\"5.- DIVICION Y/X\")\n",
        "print(\"6.- EXPONENTE X^Y\")\n",
        "print(\"7.- EXPONENTE Y^X \\n\")\n",
        "\n",
        "s = int(input (\"Selecciona la opcion deseada: \"))\n",
        "if s==1:\n",
        "  print(\"La suma es: \", n1+n2)\n",
        "elif s== 2:\n",
        "  print(\"La resta es: \",n1-n2 )\n",
        "elif s== 3:\n",
        "  print(\"La multiplicacion es: \", n1*n2)\n",
        "elif s== 4:\n",
        "  print(\"La divicion es: \", n1/n2)\n",
        "elif s== 5:\n",
        "  print(\"La divicion es: \", n2/n1)\n",
        "elif s== 6:\n",
        "  print(\"El exponencial es: \", n1**n2)\n",
        "elif s== 7:\n",
        "  print(\"El exponencial es: \", n2**n1)\n",
        "else:\n",
        "  print(\"Valor incorrecto\")\n",
        " "
      ],
      "execution_count": 90,
      "outputs": [
        {
          "output_type": "stream",
          "text": [
            "Introduce el primer numero X: 10\n",
            "Introduce el segundo numero Y: 2\n",
            "\n",
            " 1.- SUMA X+Y\n",
            "2.- RESTA X-Y\n",
            "3.- MULTIPLICACION X*Y\n",
            "4.- DIVICION X/Y\n",
            "5.- DIVICION Y/X\n",
            "6.- EXPONENTE X^Y\n",
            "7.- EXPONENTE Y^X \n",
            "\n",
            "Selecciona la opcion deseada: 6\n",
            "El exponencial es:  100.0\n"
          ],
          "name": "stdout"
        }
      ]
    },
    {
      "cell_type": "markdown",
      "metadata": {
        "id": "sdC2G9ZIcolA"
      },
      "source": [
        "Tuplas: \n",
        "Crear una variable flotante, integer, boleana y compleja e imprimir el tipo de variable que es."
      ]
    },
    {
      "cell_type": "code",
      "metadata": {
        "colab": {
          "base_uri": "https://localhost:8080/"
        },
        "id": "XHxqOcmVdUMA",
        "outputId": "3dd20ed6-c0c8-488a-f61c-a76d5ad14938"
      },
      "source": [
        "a = float (2.4)\n",
        "b = int (3)\n",
        "c= True\n",
        "d= 657.23e+34\n",
        "\n",
        "print(\"a es una variable: \", type(a))\n",
        "print(\"b es una variable: \", type(b))\n",
        "print(\"c es una variable: \", type(c))\n",
        "print(\"d es una variable: \", type(d))"
      ],
      "execution_count": 100,
      "outputs": [
        {
          "output_type": "stream",
          "text": [
            "a es una variable:  <class 'float'>\n",
            "b es una variable:  <class 'int'>\n",
            "c es una variable:  <class 'bool'>\n",
            "d es una variable:  <class 'float'>\n"
          ],
          "name": "stdout"
        }
      ]
    },
    {
      "cell_type": "markdown",
      "metadata": {
        "id": "BIltN2YQeeF-"
      },
      "source": [
        "Tuplas: Crear una tupla con valores enteros imprimir el primer y ultimo valor."
      ]
    },
    {
      "cell_type": "code",
      "metadata": {
        "colab": {
          "base_uri": "https://localhost:8080/"
        },
        "id": "JmoIX-T-ejWc",
        "outputId": "693a13d0-a7b9-4f71-b238-de4de95047cb"
      },
      "source": [
        "a=(1,2,3,4,5,6,7,8,9,10)\n",
        "print(\"El primer elemento es: \", a[0], \"\\nEl ultimo elemento es: \", a[9])\n",
        "type(a)"
      ],
      "execution_count": 125,
      "outputs": [
        {
          "output_type": "stream",
          "text": [
            "El primer elemento es:  1 \n",
            "El ultimo elemento es:  10\n"
          ],
          "name": "stdout"
        },
        {
          "output_type": "execute_result",
          "data": {
            "text/plain": [
              "tuple"
            ]
          },
          "metadata": {},
          "execution_count": 125
        }
      ]
    },
    {
      "cell_type": "markdown",
      "metadata": {
        "id": "0iZ4yowHgck5"
      },
      "source": [
        "Tupla: Añadir 3 valores de string a la tupla."
      ]
    },
    {
      "cell_type": "code",
      "metadata": {
        "colab": {
          "base_uri": "https://localhost:8080/"
        },
        "id": "XokWgNR6gitm",
        "outputId": "b88f1b94-1cf1-44e5-bfb3-5c8015b7cbb1"
      },
      "source": [
        "a=(1,2,3,4,5,6,7,8,9,10,\"hola\",\"adios\",\"Amigo\")\n",
        "print(a)\n",
        "a= a+ ('Amiga',)\n",
        "print(a)\n",
        "dir(a)"
      ],
      "execution_count": 152,
      "outputs": [
        {
          "output_type": "stream",
          "text": [
            "(1, 2, 3, 4, 5, 6, 7, 8, 9, 10, 'hola', 'adios', 'Amigo')\n",
            "(1, 2, 3, 4, 5, 6, 7, 8, 9, 10, 'hola', 'adios', 'Amigo', 'Amiga')\n"
          ],
          "name": "stdout"
        }
      ]
    },
    {
      "cell_type": "markdown",
      "metadata": {
        "id": "92p9_ziikbXD"
      },
      "source": [
        "Tupla: Verificar si una variable existe dentro de la tupla"
      ]
    },
    {
      "cell_type": "code",
      "metadata": {
        "colab": {
          "base_uri": "https://localhost:8080/"
        },
        "id": "fmyo5MT9ltGR",
        "outputId": "3f3b2322-636d-406f-ca5d-f65741310fd8"
      },
      "source": [
        "a=(1,2,3,4,5,6,7,8,9,10)\n",
        "c=  int(input(\"Elememto a revisar: \"))\n",
        "c in a"
      ],
      "execution_count": 180,
      "outputs": [
        {
          "output_type": "stream",
          "text": [
            "Elememto a revisar: 2\n"
          ],
          "name": "stdout"
        },
        {
          "output_type": "execute_result",
          "data": {
            "text/plain": [
              "True"
            ]
          },
          "metadata": {},
          "execution_count": 180
        }
      ]
    },
    {
      "cell_type": "markdown",
      "metadata": {
        "id": "mZrgjsq2rlBX"
      },
      "source": [
        "Listas: Crear una lista con 40 elementos aleatorios enteros."
      ]
    },
    {
      "cell_type": "code",
      "metadata": {
        "colab": {
          "base_uri": "https://localhost:8080/"
        },
        "id": "x-cprfccxPKC",
        "outputId": "47df63b0-bdd0-4181-f666-7456af39f6dd"
      },
      "source": [
        "import random \n",
        "list1 = [random.randint(0,100) for _ in range(50)]\n",
        "print(list1)\n",
        "\n",
        "type(list1)"
      ],
      "execution_count": 481,
      "outputs": [
        {
          "output_type": "stream",
          "text": [
            "[52, 74, 2, 49, 49, 25, 54, 97, 53, 25, 98, 62, 13, 72, 54, 54, 10, 89, 97, 45, 59, 96, 36, 97, 85, 26, 2, 51, 96, 4, 49, 92, 99, 8, 10, 83, 58, 75, 12, 67, 7, 86, 33, 8, 14, 61, 49, 97, 99, 99]\n"
          ],
          "name": "stdout"
        },
        {
          "output_type": "execute_result",
          "data": {
            "text/plain": [
              "list"
            ]
          },
          "metadata": {},
          "execution_count": 481
        }
      ]
    },
    {
      "cell_type": "markdown",
      "metadata": {
        "id": "FLlzhGxR2rFr"
      },
      "source": [
        "Listas: Con una funcion (def) crear dos listas nuevas a partir de la lista creada por numeros aleatorios, en la cual en una esten los elementos pares, y en la otra los elementos impares."
      ]
    },
    {
      "cell_type": "code",
      "metadata": {
        "colab": {
          "base_uri": "https://localhost:8080/",
          "height": 335
        },
        "id": "eTzY7U5R2vAH",
        "outputId": "7a47d6b8-c7c2-4f73-ea95-ecff3223ec07"
      },
      "source": [
        "import random \n",
        "list1 = [random.randint(0,100) for _ in range(50)]\n",
        "\n",
        "def imparr(list1):\n",
        "    impar=list()\n",
        "    for e in list1:\n",
        "        if e%2!=0:\n",
        "            impar.append(e)\n",
        "    return impar\n",
        "\n",
        "print(imparr(list1))\n",
        "  "
      ],
      "execution_count": 534,
      "outputs": [
        {
          "output_type": "error",
          "ename": "TypeError",
          "evalue": "ignored",
          "traceback": [
            "\u001b[0;31m---------------------------------------------------------------------------\u001b[0m",
            "\u001b[0;31mTypeError\u001b[0m                                 Traceback (most recent call last)",
            "\u001b[0;32m<ipython-input-534-440ccd1fe9b5>\u001b[0m in \u001b[0;36m<module>\u001b[0;34m()\u001b[0m\n\u001b[1;32m      9\u001b[0m     \u001b[0;32mreturn\u001b[0m \u001b[0mimpar\u001b[0m\u001b[0;34m\u001b[0m\u001b[0;34m\u001b[0m\u001b[0m\n\u001b[1;32m     10\u001b[0m \u001b[0;34m\u001b[0m\u001b[0m\n\u001b[0;32m---> 11\u001b[0;31m \u001b[0mprint\u001b[0m\u001b[0;34m(\u001b[0m\u001b[0mimparr\u001b[0m\u001b[0;34m(\u001b[0m\u001b[0mlist1\u001b[0m\u001b[0;34m)\u001b[0m\u001b[0;34m)\u001b[0m\u001b[0;34m\u001b[0m\u001b[0;34m\u001b[0m\u001b[0m\n\u001b[0m\u001b[1;32m     12\u001b[0m \u001b[0;34m\u001b[0m\u001b[0m\n",
            "\u001b[0;32m<ipython-input-534-440ccd1fe9b5>\u001b[0m in \u001b[0;36mimparr\u001b[0;34m(list1)\u001b[0m\n\u001b[1;32m      3\u001b[0m \u001b[0;34m\u001b[0m\u001b[0m\n\u001b[1;32m      4\u001b[0m \u001b[0;32mdef\u001b[0m \u001b[0mimparr\u001b[0m\u001b[0;34m(\u001b[0m\u001b[0mlist1\u001b[0m\u001b[0;34m)\u001b[0m\u001b[0;34m:\u001b[0m\u001b[0;34m\u001b[0m\u001b[0;34m\u001b[0m\u001b[0m\n\u001b[0;32m----> 5\u001b[0;31m     \u001b[0mimpar\u001b[0m\u001b[0;34m=\u001b[0m\u001b[0mlist\u001b[0m\u001b[0;34m(\u001b[0m\u001b[0;34m)\u001b[0m\u001b[0;34m\u001b[0m\u001b[0;34m\u001b[0m\u001b[0m\n\u001b[0m\u001b[1;32m      6\u001b[0m     \u001b[0;32mfor\u001b[0m \u001b[0me\u001b[0m \u001b[0;32min\u001b[0m \u001b[0mlist1\u001b[0m\u001b[0;34m:\u001b[0m\u001b[0;34m\u001b[0m\u001b[0;34m\u001b[0m\u001b[0m\n\u001b[1;32m      7\u001b[0m         \u001b[0;32mif\u001b[0m \u001b[0me\u001b[0m\u001b[0;34m%\u001b[0m\u001b[0;36m2\u001b[0m\u001b[0;34m!=\u001b[0m\u001b[0;36m0\u001b[0m\u001b[0;34m:\u001b[0m\u001b[0;34m\u001b[0m\u001b[0;34m\u001b[0m\u001b[0m\n",
            "\u001b[0;31mTypeError\u001b[0m: pares() missing 1 required positional argument: 'list1'"
          ]
        }
      ]
    },
    {
      "cell_type": "markdown",
      "metadata": {
        "id": "p0H-R5z8MrgY"
      },
      "source": [
        "Diccionarios: Crear un diccionario de 6 personas que conozcas con su primer nombre y su edad."
      ]
    },
    {
      "cell_type": "code",
      "metadata": {
        "id": "8TD2dQJyMv7G"
      },
      "source": [
        "dict1={'Francisco':23,'Mauricio':19,'Adriana':5,'Maria':46,'Isidro':47,'Andrea':25}"
      ],
      "execution_count": 406,
      "outputs": []
    },
    {
      "cell_type": "markdown",
      "metadata": {
        "id": "MRy-4ERCNdqd"
      },
      "source": [
        "Diccionarios: Crear una lista con los valores de la edad y reacomodar la lista de menor a mayor valor."
      ]
    },
    {
      "cell_type": "code",
      "metadata": {
        "colab": {
          "base_uri": "https://localhost:8080/"
        },
        "id": "yZzG11hiNgtz",
        "outputId": "a396dbf6-0e1d-431a-ce9e-b0b9561d5ae5"
      },
      "source": [
        "dict1={'Francisco':23,'Mauricio':19,'Adriana':5,'Maria':46,'Isidro':47,'Andrea':25}\n",
        "\n",
        "lista1=list(dict1.values())\n",
        "type(lista1)\n",
        "\n",
        "lista1.sort()\n",
        "print(lista1)\n",
        "\n"
      ],
      "execution_count": 428,
      "outputs": [
        {
          "output_type": "stream",
          "text": [
            "[5, 19, 23, 25, 46, 47]\n"
          ],
          "name": "stdout"
        }
      ]
    },
    {
      "cell_type": "markdown",
      "metadata": {
        "id": "Gtj8YFDEX2AY"
      },
      "source": [
        "Diccionarios: Añadir dos personas nuevas a tu diccionario, incluyendo edad."
      ]
    },
    {
      "cell_type": "code",
      "metadata": {
        "colab": {
          "base_uri": "https://localhost:8080/"
        },
        "id": "bKTvVIctYM8a",
        "outputId": "dbc806e1-cc22-4777-ea0d-722f1737cc1e"
      },
      "source": [
        "dict1={'Francisco':23,'Mauricio':19,'Adriana':5,'Maria':46,'Isidro':47,'Andrea':25}\n",
        "\n",
        "dict1['Norma']= 28\n",
        "dict1['Alberto']= 61\n",
        "\n",
        "print(dict1)"
      ],
      "execution_count": 432,
      "outputs": [
        {
          "output_type": "stream",
          "text": [
            "{'Francisco': 23, 'Mauricio': 19, 'Adriana': 5, 'Maria': 46, 'Isidro': 47, 'Andrea': 25, 'Norma': 28, 'Alberto': 61}\n"
          ],
          "name": "stdout"
        }
      ]
    },
    {
      "cell_type": "markdown",
      "metadata": {
        "id": "tB1qGrYMYnyd"
      },
      "source": [
        "Sets: Crea un set con 100 numeros aleatorios enteros del 1 al 25."
      ]
    },
    {
      "cell_type": "code",
      "metadata": {
        "colab": {
          "base_uri": "https://localhost:8080/"
        },
        "id": "V4VPdOwBYuLV",
        "outputId": "8f6a7cd1-56f8-4805-c72e-815c097a459e"
      },
      "source": [
        "import random as rm\n",
        "a=set(random.randint(1,25) for _ in range(100))\n",
        "print(a)\n",
        "type(a)"
      ],
      "execution_count": 455,
      "outputs": [
        {
          "output_type": "stream",
          "text": [
            "{1, 2, 3, 4, 5, 6, 7, 8, 9, 10, 11, 12, 13, 14, 15, 16, 17, 18, 19, 20, 21, 22, 23, 24, 25}\n"
          ],
          "name": "stdout"
        },
        {
          "output_type": "execute_result",
          "data": {
            "text/plain": [
              "set"
            ]
          },
          "metadata": {},
          "execution_count": 455
        }
      ]
    },
    {
      "cell_type": "markdown",
      "metadata": {
        "id": "UHFNCVWnaYLk"
      },
      "source": [
        "Sets: Comprueba la longitud de tu set."
      ]
    },
    {
      "cell_type": "code",
      "metadata": {
        "colab": {
          "base_uri": "https://localhost:8080/"
        },
        "id": "SX2RyRh7abXH",
        "outputId": "991de241-a9a2-4ef3-ca43-e3e8c90a391f"
      },
      "source": [
        "import random as rm\n",
        "a=set(random.randint(1,25) for _ in range(100))\n",
        "len(a)"
      ],
      "execution_count": 454,
      "outputs": [
        {
          "output_type": "execute_result",
          "data": {
            "text/plain": [
              "25"
            ]
          },
          "metadata": {},
          "execution_count": 454
        }
      ]
    },
    {
      "cell_type": "markdown",
      "metadata": {
        "id": "giXZ3aFNauN5"
      },
      "source": [
        "Sets: Crea una lista de 5 numeros aleatorios del 1 al 10 y comprueba si cada valor aparece en el set inicial."
      ]
    },
    {
      "cell_type": "code",
      "metadata": {
        "colab": {
          "base_uri": "https://localhost:8080/"
        },
        "id": "2gw0Hl7kav1R",
        "outputId": "cedd48e6-9946-498d-bcff-7d583b6862d5"
      },
      "source": [
        "b= list(random.randint(1,10) for _ in range(5))\n",
        "a=list(set(random.randint(1,25) for _ in range(100)))\n",
        "print(a)\n",
        "print(b)\n",
        "\n",
        "for i in range (5):\n",
        "  print(a[1] in b )\n"
      ],
      "execution_count": 479,
      "outputs": [
        {
          "output_type": "stream",
          "text": [
            "[1, 2, 3, 4, 5, 6, 7, 8, 9, 10, 11, 12, 13, 14, 15, 16, 17, 18, 19, 20, 21, 22, 23, 24, 25]\n",
            "[5, 2, 3, 4, 2]\n",
            "True\n",
            "True\n",
            "True\n",
            "True\n",
            "True\n"
          ],
          "name": "stdout"
        }
      ]
    }
  ]
}